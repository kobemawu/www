{
  "nbformat": 4,
  "nbformat_minor": 0,
  "metadata": {
    "colab": {
      "name": "NLTK_Kmeans_sample.ipynb",
      "provenance": [],
      "collapsed_sections": [],
      "include_colab_link": true
    },
    "kernelspec": {
      "name": "python3",
      "display_name": "Python 3"
    }
  },
  "cells": [
    {
      "cell_type": "markdown",
      "metadata": {
        "id": "view-in-github",
        "colab_type": "text"
      },
      "source": [
        "<a href=\"https://colab.research.google.com/github/kobemawu/www/blob/master/NLTK_Kmeans_sample.ipynb\" target=\"_parent\"><img src=\"https://colab.research.google.com/assets/colab-badge.svg\" alt=\"Open In Colab\"/></a>"
      ]
    },
    {
      "cell_type": "code",
      "metadata": {
        "id": "m6ROXjEiGFok"
      },
      "source": [
        "import numpy as np\n",
        "from nltk import cluster\n",
        "from nltk.cluster import euclidean_distance, cosine_distance"
      ],
      "execution_count": 1,
      "outputs": []
    },
    {
      "cell_type": "code",
      "metadata": {
        "id": "kDCpGS_VGHTo",
        "outputId": "fbd58d60-848c-4ba1-8c4a-b4fb2f7e44b9",
        "colab": {
          "base_uri": "https://localhost:8080/"
        }
      },
      "source": [
        "#サンプルデータとして10個の2次元のvectorを扱う / use 10 2d vectors as sample data \n",
        "vectors=np.random.rand(10,2)\n",
        "vectors"
      ],
      "execution_count": 2,
      "outputs": [
        {
          "output_type": "execute_result",
          "data": {
            "text/plain": [
              "array([[0.68847278, 0.74942966],\n",
              "       [0.86333359, 0.46242228],\n",
              "       [0.3471917 , 0.85480966],\n",
              "       [0.91050457, 0.31763835],\n",
              "       [0.75122496, 0.82195466],\n",
              "       [0.93757807, 0.36254086],\n",
              "       [0.82664589, 0.82657783],\n",
              "       [0.58795789, 0.24492494],\n",
              "       [0.12614618, 0.13379444],\n",
              "       [0.4254171 , 0.6127876 ]])"
            ]
          },
          "metadata": {},
          "execution_count": 2
        }
      ]
    },
    {
      "cell_type": "code",
      "metadata": {
        "id": "qFJnJRKHKwAf"
      },
      "source": [
        "#クラスタ数 / the number of clusters\n",
        "n_clusters=3"
      ],
      "execution_count": 3,
      "outputs": []
    },
    {
      "cell_type": "code",
      "metadata": {
        "id": "v3wjkW1gGmiV",
        "outputId": "02d5550e-c168-44c8-f45a-dd5726654cd9",
        "colab": {
          "base_uri": "https://localhost:8080/"
        }
      },
      "source": [
        "# euclidean_distance\n",
        "kmeans = cluster.KMeansClusterer(n_clusters, euclidean_distance, avoid_empty_clusters=True, conv_test=1e-4)  \n",
        "clusters = kmeans.cluster(vectors, True, trace=True) \n",
        "clusters"
      ],
      "execution_count": 4,
      "outputs": [
        {
          "output_type": "stream",
          "name": "stdout",
          "text": [
            "k-means trial 0\n",
            "iteration\n",
            "iteration\n",
            "iteration\n",
            "iteration\n",
            "iteration\n",
            "iteration\n",
            "iteration\n"
          ]
        },
        {
          "output_type": "execute_result",
          "data": {
            "text/plain": [
              "[1, 0, 1, 0, 1, 0, 1, 2, 2, 2]"
            ]
          },
          "metadata": {},
          "execution_count": 4
        }
      ]
    },
    {
      "cell_type": "code",
      "metadata": {
        "id": "SKQbHQC4GInQ",
        "outputId": "a5fea5f8-2e7a-42f7-a71f-73105699349e",
        "colab": {
          "base_uri": "https://localhost:8080/"
        }
      },
      "source": [
        "# cosine_distance\n",
        "kmeans = cluster.KMeansClusterer(n_clusters,  cosine_distance, avoid_empty_clusters=True,conv_test=1e-4)  \n",
        "clusters = kmeans.cluster(vectors, True, trace=True) \n",
        "clusters"
      ],
      "execution_count": 5,
      "outputs": [
        {
          "output_type": "stream",
          "name": "stdout",
          "text": [
            "k-means trial 0\n",
            "iteration\n",
            "iteration\n",
            "iteration\n"
          ]
        },
        {
          "output_type": "execute_result",
          "data": {
            "text/plain": [
              "[1, 0, 1, 2, 1, 2, 1, 2, 1, 1]"
            ]
          },
          "metadata": {},
          "execution_count": 5
        }
      ]
    }
  ]
}