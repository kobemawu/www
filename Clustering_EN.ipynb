{
  "nbformat": 4,
  "nbformat_minor": 0,
  "metadata": {
    "colab": {
      "name": "Clustering_EN.ipynb",
      "provenance": [],
      "collapsed_sections": [],
      "include_colab_link": true
    },
    "kernelspec": {
      "name": "python3",
      "display_name": "Python 3"
    }
  },
  "cells": [
    {
      "cell_type": "markdown",
      "metadata": {
        "id": "view-in-github",
        "colab_type": "text"
      },
      "source": [
        "<a href=\"https://colab.research.google.com/github/kobemawu/www/blob/master/Clustering_EN.ipynb\" target=\"_parent\"><img src=\"https://colab.research.google.com/assets/colab-badge.svg\" alt=\"Open In Colab\"/></a>"
      ]
    },
    {
      "cell_type": "markdown",
      "metadata": {
        "id": "sESw_dKQL5mA"
      },
      "source": [
        "# NLTK Corpus Clustering with scikit-learn package"
      ]
    },
    {
      "cell_type": "markdown",
      "metadata": {
        "id": "3nFpmxQOMIKS"
      },
      "source": [
        "## Preparation\n",
        "First of all, let us import necessary libraries.\n",
        "* nltk\n",
        "* sklearn\n"
      ]
    },
    {
      "cell_type": "code",
      "metadata": {
        "id": "v9v_nPKQMTZd"
      },
      "source": [
        "from sklearn.feature_extraction.text import TfidfVectorizer\n",
        "from sklearn.cluster import KMeans\n",
        "import numpy as np\n",
        "import matplotlib.pyplot as plt\n",
        "import pandas as pd\n",
        "import nltk\n",
        "import collections"
      ],
      "execution_count": 14,
      "outputs": []
    },
    {
      "cell_type": "markdown",
      "metadata": {
        "id": "y2UGMZJaMgvM"
      },
      "source": [
        "We will use the following datasets in this tutorial."
      ]
    },
    {
      "cell_type": "code",
      "metadata": {
        "id": "MaRmXeotMjKv",
        "colab": {
          "base_uri": "https://localhost:8080/"
        },
        "outputId": "d8c053f3-d3ba-45b3-f3c4-00cd29ca864c"
      },
      "source": [
        "nltk.download(\"stopwords\")\n",
        "nltk.download(\"wordnet\")\n",
        "nltk.download(\"reuters\")\n",
        "nltk.download(\"punkt\")"
      ],
      "execution_count": 15,
      "outputs": [
        {
          "output_type": "stream",
          "text": [
            "[nltk_data] Downloading package stopwords to /root/nltk_data...\n",
            "[nltk_data]   Package stopwords is already up-to-date!\n",
            "[nltk_data] Downloading package wordnet to /root/nltk_data...\n",
            "[nltk_data]   Package wordnet is already up-to-date!\n",
            "[nltk_data] Downloading package reuters to /root/nltk_data...\n",
            "[nltk_data]   Package reuters is already up-to-date!\n",
            "[nltk_data] Downloading package punkt to /root/nltk_data...\n",
            "[nltk_data]   Package punkt is already up-to-date!\n"
          ],
          "name": "stdout"
        },
        {
          "output_type": "execute_result",
          "data": {
            "text/plain": [
              "True"
            ]
          },
          "metadata": {
            "tags": []
          },
          "execution_count": 15
        }
      ]
    },
    {
      "cell_type": "markdown",
      "metadata": {
        "id": "7VtrTuH4MrHN"
      },
      "source": [
        "Load the corpus from NLTK package and check out the contents. In some cases, you may need to unzip the data like \"!unzip /root/nltk_data/corpora/reuters.zip -d /root/nltk_data/corpora\""
      ]
    },
    {
      "cell_type": "code",
      "metadata": {
        "id": "zXcN4x3bMljo",
        "colab": {
          "base_uri": "https://localhost:8080/"
        },
        "outputId": "43f91030-90dc-444f-8e40-55a565556ddc"
      },
      "source": [
        "from nltk.corpus import reuters as corpus\n",
        "\n",
        "for n,item in enumerate(corpus.words(corpus.fileids()[0])[:300]):\n",
        "    print(item, end=\" \")\n",
        "    if (n%25) ==24:\n",
        "      print(\" \")"
      ],
      "execution_count": 16,
      "outputs": [
        {
          "output_type": "stream",
          "text": [
            "ASIAN EXPORTERS FEAR DAMAGE FROM U . S .- JAPAN RIFT Mounting trade friction between the U . S . And Japan has raised fears  \n",
            "among many of Asia ' s exporting nations that the row could inflict far - reaching economic damage , businessmen and officials said . They  \n",
            "told Reuter correspondents in Asian capitals a U . S . Move against Japan might boost protectionist sentiment in the U . S . And  \n",
            "lead to curbs on American imports of their products . But some exporters said that while the conflict would hurt them in the long -  \n",
            "run , in the short - term Tokyo ' s loss might be their gain . The U . S . Has said it will  \n",
            "impose 300 mln dlrs of tariffs on imports of Japanese electronics goods on April 17 , in retaliation for Japan ' s alleged failure to  \n",
            "stick to a pact not to sell semiconductors on world markets at below cost . Unofficial Japanese estimates put the impact of the tariffs at  \n",
            "10 billion dlrs and spokesmen for major electronics firms said they would virtually halt exports of products hit by the new taxes . \" We  \n",
            "wouldn ' t be able to do business ,\" said a spokesman for leading Japanese electronics firm Matsushita Electric Industrial Co Ltd & lt ;  \n",
            "MC . T >. \" If the tariffs remain in place for any length of time beyond a few months it will mean the complete  \n",
            "erosion of exports ( of goods subject to tariffs ) to the U . S .,\" said Tom Murtha , a stock analyst at the  \n",
            "Tokyo office of broker & lt ; James Capel and Co >. In Taiwan , businessmen and officials are also worried . \" We are  \n"
          ],
          "name": "stdout"
        }
      ]
    },
    {
      "cell_type": "code",
      "metadata": {
        "id": "HXvSxPG0MuXr",
        "colab": {
          "base_uri": "https://localhost:8080/"
        },
        "outputId": "aff63253-c501-4156-fb29-fec3f44ce074"
      },
      "source": [
        "for n,item in enumerate(corpus.words(corpus.fileids()[0])[:300]):\n",
        "    print(item, end=\" \")\n",
        "    if (n%25) ==24:\n",
        "      print(\" \")"
      ],
      "execution_count": 17,
      "outputs": [
        {
          "output_type": "stream",
          "text": [
            "ASIAN EXPORTERS FEAR DAMAGE FROM U . S .- JAPAN RIFT Mounting trade friction between the U . S . And Japan has raised fears  \n",
            "among many of Asia ' s exporting nations that the row could inflict far - reaching economic damage , businessmen and officials said . They  \n",
            "told Reuter correspondents in Asian capitals a U . S . Move against Japan might boost protectionist sentiment in the U . S . And  \n",
            "lead to curbs on American imports of their products . But some exporters said that while the conflict would hurt them in the long -  \n",
            "run , in the short - term Tokyo ' s loss might be their gain . The U . S . Has said it will  \n",
            "impose 300 mln dlrs of tariffs on imports of Japanese electronics goods on April 17 , in retaliation for Japan ' s alleged failure to  \n",
            "stick to a pact not to sell semiconductors on world markets at below cost . Unofficial Japanese estimates put the impact of the tariffs at  \n",
            "10 billion dlrs and spokesmen for major electronics firms said they would virtually halt exports of products hit by the new taxes . \" We  \n",
            "wouldn ' t be able to do business ,\" said a spokesman for leading Japanese electronics firm Matsushita Electric Industrial Co Ltd & lt ;  \n",
            "MC . T >. \" If the tariffs remain in place for any length of time beyond a few months it will mean the complete  \n",
            "erosion of exports ( of goods subject to tariffs ) to the U . S .,\" said Tom Murtha , a stock analyst at the  \n",
            "Tokyo office of broker & lt ; James Capel and Co >. In Taiwan , businessmen and officials are also worried . \" We are  \n"
          ],
          "name": "stdout"
        }
      ]
    },
    {
      "cell_type": "markdown",
      "metadata": {
        "id": "2lysFJt4M1Ux"
      },
      "source": [
        "The total number of documents."
      ]
    },
    {
      "cell_type": "code",
      "metadata": {
        "id": "_Yz5UaciM0UG",
        "colab": {
          "base_uri": "https://localhost:8080/"
        },
        "outputId": "6917e3a0-a1de-4da9-d3b8-76c0975338a9"
      },
      "source": [
        "len(corpus.fileids())"
      ],
      "execution_count": 18,
      "outputs": [
        {
          "output_type": "execute_result",
          "data": {
            "text/plain": [
              "10788"
            ]
          },
          "metadata": {
            "tags": []
          },
          "execution_count": 18
        }
      ]
    },
    {
      "cell_type": "markdown",
      "metadata": {
        "id": "eu_yYroqM8-8"
      },
      "source": [
        "You can train the model with first K number of documents or all documents."
      ]
    },
    {
      "cell_type": "code",
      "metadata": {
        "id": "JOSFXIzlM5wI",
        "colab": {
          "base_uri": "https://localhost:8080/"
        },
        "outputId": "eac328a2-dfe3-442a-d82b-e8dfcf405d76"
      },
      "source": [
        "# First K documents\n",
        "# K=1000\n",
        "# docs=[corpus.words(fileid) for fileid in corpus.fileids()[:K]]\n",
        "\n",
        "# All documents\n",
        "docs=[corpus.words(fileid) for fileid in corpus.fileids()]\n",
        "\n",
        "print(docs[:5])\n",
        "print(\"num of docs:\", len(docs))"
      ],
      "execution_count": 19,
      "outputs": [
        {
          "output_type": "stream",
          "text": [
            "[['ASIAN', 'EXPORTERS', 'FEAR', 'DAMAGE', 'FROM', 'U', ...], ['CHINA', 'DAILY', 'SAYS', 'VERMIN', 'EAT', '7', '-', ...], ['JAPAN', 'TO', 'REVISE', 'LONG', '-', 'TERM', ...], ['THAI', 'TRADE', 'DEFICIT', 'WIDENS', 'IN', 'FIRST', ...], ['INDONESIA', 'SEES', 'CPO', 'PRICE', 'RISING', ...]]\n",
            "num of docs: 10788\n"
          ],
          "name": "stdout"
        }
      ]
    },
    {
      "cell_type": "markdown",
      "metadata": {
        "id": "U17VbjPaNIAD"
      },
      "source": [
        "## Data preprocessing\n",
        "First, let us define some stopwords. Here we consider English stopwords from the NLTK package and some noises that may affect our result.  \n",
        "(Optional) Try to ignore numbers and words through regular expression."
      ]
    },
    {
      "cell_type": "code",
      "metadata": {
        "id": "CHC1l7zDNFLx"
      },
      "source": [
        "# English stopwords defined by the NLTK package.\n",
        "en_stop = nltk.corpus.stopwords.words('english')\n",
        "\n",
        "# Ignore noises that might affect our result.\n",
        "en_stop = [\"``\",\"/\",\",.\",\".,\",\";\",\"--\",\":\",\")\",\"(\",'\"','&',\"'\",'),',',\"','-','.,','.,\"','.-',\"?\",\">\",\"<\"]                  \\\n",
        "         +[\"0\",\"1\",\"2\",\"3\",\"4\",\"5\",\"6\",\"7\",\"8\",\"9\",\"10\",\"11\",\"12\",\"86\",\"1986\",\"1987\",\"000\"]                                                      \\\n",
        "         +[\"said\",\"say\",\"u\",\"v\",\"mln\",\"ct\",\"net\",\"dlrs\",\"tonne\",\"pct\",\"shr\",\"nil\",\"company\",\"lt\",\"share\",\"year\",\"billion\",\"price\"]          \\\n",
        "         +en_stop"
      ],
      "execution_count": 20,
      "outputs": []
    },
    {
      "cell_type": "markdown",
      "metadata": {
        "id": "7hdG75XqNYPa"
      },
      "source": [
        "Next, let us define several preprocessing functions."
      ]
    },
    {
      "cell_type": "code",
      "metadata": {
        "id": "f1jUH0P-NcoP"
      },
      "source": [
        "from nltk.corpus import wordnet as wn # import for lemmatize\n",
        "\n",
        "def preprocess_word(word, stopwordset):\n",
        "    \n",
        "    #1.convert words to lowercase (e.g., Python =>python)\n",
        "    word=word.lower()\n",
        "    \n",
        "    #2.remove \",\" and \".\"\n",
        "    if word in [\",\",\".\"]:\n",
        "        return None\n",
        "    \n",
        "    #3.remove stopwords  (e.g., the => (None)) \n",
        "    if word in stopwordset:\n",
        "        return None\n",
        "    \n",
        "    #4.lemmatize  (e.g., cooked=>cook)\n",
        "    lemma = wn.morphy(word)\n",
        "    if lemma is None:\n",
        "        return word\n",
        "\n",
        "    # lemmatized words could be in the stopwords set\n",
        "    elif lemma in stopwordset: \n",
        "        return None\n",
        "    else:\n",
        "        return lemma\n",
        "    \n",
        "\n",
        "def preprocess_document(document):\n",
        "    document=[preprocess_word(w, en_stop) for w in document]\n",
        "    document=[w for w in document if w is not None]\n",
        "    return document\n",
        "\n",
        "def preprocess_documents(documents):\n",
        "    return [preprocess_document(document) for document in documents]"
      ],
      "execution_count": 21,
      "outputs": []
    },
    {
      "cell_type": "markdown",
      "metadata": {
        "id": "nJZeCVgNNi5T"
      },
      "source": [
        "Let us check out the preprocessing result."
      ]
    },
    {
      "cell_type": "code",
      "metadata": {
        "id": "2u2P8lmTNgLn",
        "colab": {
          "base_uri": "https://localhost:8080/"
        },
        "outputId": "0c3e6f05-ff31-4220-9ebc-0079b5bf5d89"
      },
      "source": [
        "# before\n",
        "print(docs[0][:25]) \n",
        "\n",
        "# after\n",
        "print(preprocess_documents(docs)[0][:25])"
      ],
      "execution_count": 22,
      "outputs": [
        {
          "output_type": "stream",
          "text": [
            "['ASIAN', 'EXPORTERS', 'FEAR', 'DAMAGE', 'FROM', 'U', '.', 'S', '.-', 'JAPAN', 'RIFT', 'Mounting', 'trade', 'friction', 'between', 'the', 'U', '.', 'S', '.', 'And', 'Japan', 'has', 'raised', 'fears']\n",
            "['asian', 'exporter', 'fear', 'damage', 'japan', 'rift', 'mounting', 'trade', 'friction', 'japan', 'raise', 'fear', 'among', 'many', 'asia', 'exporting', 'nation', 'row', 'could', 'inflict', 'far', 'reaching', 'economic', 'damage', 'businessmen']\n"
          ],
          "name": "stdout"
        }
      ]
    },
    {
      "cell_type": "markdown",
      "metadata": {
        "id": "kIwd7wGvNyWj"
      },
      "source": [
        "## Clustering\n",
        "Document vectorization with tf-idf. We use the TfidfVectorizer that provided by the sklearn package (and set the hyperparameter)."
      ]
    },
    {
      "cell_type": "code",
      "metadata": {
        "id": "QVtbDMmtNuQV",
        "outputId": "b8a4deed-9052-431e-d5d6-18f4e8143b1e",
        "colab": {
          "base_uri": "https://localhost:8080/"
        }
      },
      "source": [
        "# define the vectorizer\n",
        "pre_docs=preprocess_documents(docs)\n",
        "pre_docs=[\" \".join(doc) for doc in pre_docs]\n",
        "print(pre_docs[0])\n",
        "\n",
        "vectorizer = TfidfVectorizer(max_features=200, token_pattern=u'(?u)\\\\b\\\\w+\\\\b' )\n",
        "\n",
        "\n",
        "# fit\n",
        "tf_idf = vectorizer.fit_transform(pre_docs)"
      ],
      "execution_count": 23,
      "outputs": [
        {
          "output_type": "stream",
          "text": [
            "asian exporter fear damage japan rift mounting trade friction japan raise fear among many asia exporting nation row could inflict far reaching economic damage businessmen official tell reuter correspondent asian capital move japan might boost protectionist sentiment lead curb american import product exporter conflict would hurt long run short term tokyo loss might gain impose 300 tariff import japanese electronics good april 17 retaliation japan allege failure stick pact sell semiconductor world market cost unofficial japanese estimate put impact tariff spokesman major electronics firm would virtually halt export product hit new tax able business spokesman leading japanese electronics firm matsushita electric industrial co ltd mc >. tariff remain place length time beyond month mean complete erosion export good subject tariff tom murtha stock analyst tokyo office broker james capel co >. taiwan businessmen official also worry aware seriousness threat japan serve warning us senior taiwanese trade official ask name taiwan trade trade surplus 15 last 95 surplus help swell taiwan foreign exchange reserves 53 among world large must quickly open market remove trade barrier cut import tariff allow import product want defuse problem possible retaliation paul sheen chairman textile exporter taiwan safe group >. senior official south korea trade promotion association trade dispute japan might also lead pressure south korea whose chief export similar japan last south korea trade surplus 1985 malaysia trade officer businessmen tough curb japan might allow hard hit producer semiconductor third country expand sales hong kong newspaper allege japan selling cost semiconductor electronics manufacturer view businessmen short term commercial advantage would outweigh pressure block import short term view lawrence mills director general federation hong kong industry whole purpose prevent import one day extend source much serious hong kong disadvantage action restrain trade last hong kong big export market accounting 30 domestically produce export australian government await outcome trade talks japan interest concern industry minister john button canberra last friday kind deterioration trade relations two country major trading partner serious matter button australia concern centre coal beef australia two large export japan also significant export country meanwhile japanese diplomatic manoeuvre solve trade stand continue japan ruling liberal democratic party yesterday outline package economic measure boost japanese economy measure propose include large supplementary budget record public works spending first half financial also call step spending emergency measure stimulate economy despite prime minister yasuhiro nakasone avow fiscal reform program deputy trade representative michael smith makoto kuroda japan deputy minister international trade industry miti due meet washington week effort end dispute\n"
          ],
          "name": "stdout"
        }
      ]
    },
    {
      "cell_type": "markdown",
      "metadata": {
        "id": "yKhgoWLeOCW_"
      },
      "source": [
        "We use K-means to cluster our documents."
      ]
    },
    {
      "cell_type": "code",
      "metadata": {
        "id": "qVRkE4lsOBuL"
      },
      "source": [
        "# K-means setting\n",
        "num_clusters = 8\n",
        "km = KMeans(n_clusters=num_clusters, random_state = 0)\n",
        "\n",
        "# fit\n",
        "clusters = km.fit_predict(tf_idf)"
      ],
      "execution_count": 24,
      "outputs": []
    },
    {
      "cell_type": "markdown",
      "metadata": {
        "id": "aIcN2sKSOZdu"
      },
      "source": [
        "Check out the clustering result."
      ]
    },
    {
      "cell_type": "code",
      "metadata": {
        "id": "HBFqXETzOXec",
        "colab": {
          "base_uri": "https://localhost:8080/"
        },
        "outputId": "e65eb046-9742-4341-c6d7-790f0776e2b8"
      },
      "source": [
        "for doc, cls in zip(preprocess_documents(docs)[0], clusters):\n",
        "    print(cls,doc)"
      ],
      "execution_count": 25,
      "outputs": [
        {
          "output_type": "stream",
          "text": [
            "6 asian\n",
            "1 exporter\n",
            "6 fear\n",
            "1 damage\n",
            "3 japan\n",
            "6 rift\n",
            "6 mounting\n",
            "1 trade\n",
            "7 friction\n",
            "5 japan\n",
            "1 raise\n",
            "5 fear\n",
            "7 among\n",
            "1 many\n",
            "6 asia\n",
            "1 exporting\n",
            "1 nation\n",
            "5 row\n",
            "6 could\n",
            "6 inflict\n",
            "7 far\n",
            "1 reaching\n",
            "1 economic\n",
            "5 damage\n",
            "1 businessmen\n",
            "0 official\n",
            "6 tell\n",
            "6 reuter\n",
            "1 correspondent\n",
            "1 asian\n",
            "1 capital\n",
            "7 move\n",
            "6 japan\n",
            "3 might\n",
            "3 boost\n",
            "1 protectionist\n",
            "1 sentiment\n",
            "1 lead\n",
            "6 curb\n",
            "7 american\n",
            "6 import\n",
            "7 product\n",
            "6 exporter\n",
            "5 conflict\n",
            "1 would\n",
            "5 hurt\n",
            "7 long\n",
            "1 run\n",
            "1 short\n",
            "1 term\n",
            "1 tokyo\n",
            "1 loss\n",
            "6 might\n",
            "7 gain\n",
            "1 impose\n",
            "4 300\n",
            "7 tariff\n",
            "7 import\n",
            "7 japanese\n",
            "6 electronics\n",
            "2 good\n",
            "6 april\n",
            "2 17\n",
            "1 retaliation\n",
            "2 japan\n",
            "2 allege\n",
            "0 failure\n",
            "5 stick\n",
            "2 pact\n",
            "1 sell\n",
            "2 semiconductor\n",
            "5 world\n",
            "2 market\n",
            "2 cost\n",
            "1 unofficial\n",
            "1 japanese\n",
            "7 estimate\n",
            "2 put\n",
            "7 impact\n",
            "0 tariff\n",
            "5 spokesman\n",
            "2 major\n",
            "1 electronics\n",
            "6 firm\n",
            "1 would\n",
            "1 virtually\n",
            "0 halt\n",
            "4 export\n",
            "2 product\n",
            "7 hit\n",
            "1 new\n",
            "3 tax\n",
            "1 able\n",
            "2 business\n",
            "4 spokesman\n",
            "4 leading\n",
            "1 japanese\n",
            "2 electronics\n",
            "1 firm\n",
            "1 matsushita\n",
            "2 electric\n",
            "7 industrial\n",
            "2 co\n",
            "2 ltd\n",
            "2 mc\n",
            "4 >.\n",
            "7 tariff\n",
            "4 remain\n",
            "1 place\n",
            "7 length\n",
            "3 time\n",
            "1 beyond\n",
            "1 month\n",
            "1 mean\n",
            "6 complete\n",
            "1 erosion\n",
            "7 export\n",
            "2 good\n",
            "5 subject\n",
            "0 tariff\n",
            "7 tom\n",
            "7 murtha\n",
            "2 stock\n",
            "3 analyst\n",
            "0 tokyo\n",
            "2 office\n",
            "1 broker\n",
            "2 james\n",
            "2 capel\n",
            "4 co\n",
            "4 >.\n",
            "2 taiwan\n",
            "4 businessmen\n",
            "2 official\n",
            "7 also\n",
            "1 worry\n",
            "1 aware\n",
            "0 seriousness\n",
            "1 threat\n",
            "1 japan\n",
            "1 serve\n",
            "1 warning\n",
            "0 us\n",
            "1 senior\n",
            "1 taiwanese\n",
            "2 trade\n",
            "1 official\n",
            "7 ask\n",
            "1 name\n",
            "4 taiwan\n",
            "7 trade\n",
            "4 trade\n",
            "1 surplus\n",
            "7 15\n",
            "7 last\n",
            "2 95\n",
            "7 surplus\n",
            "6 help\n",
            "0 swell\n",
            "1 taiwan\n",
            "2 foreign\n",
            "7 exchange\n",
            "2 reserves\n",
            "2 53\n",
            "0 among\n",
            "7 world\n",
            "7 large\n",
            "0 must\n",
            "0 quickly\n",
            "6 open\n",
            "7 market\n",
            "4 remove\n",
            "7 trade\n",
            "1 barrier\n",
            "6 cut\n",
            "1 import\n",
            "2 tariff\n",
            "1 allow\n",
            "2 import\n",
            "2 product\n",
            "0 want\n",
            "0 defuse\n",
            "2 problem\n",
            "4 possible\n",
            "1 retaliation\n",
            "4 paul\n",
            "6 sheen\n",
            "6 chairman\n",
            "7 textile\n",
            "2 exporter\n",
            "6 taiwan\n",
            "5 safe\n",
            "4 group\n",
            "7 >.\n",
            "2 senior\n",
            "5 official\n",
            "1 south\n",
            "1 korea\n",
            "6 trade\n",
            "1 promotion\n",
            "2 association\n",
            "1 trade\n",
            "6 dispute\n",
            "1 japan\n",
            "1 might\n",
            "1 also\n",
            "2 lead\n",
            "6 pressure\n",
            "6 south\n",
            "3 korea\n",
            "7 whose\n",
            "1 chief\n",
            "1 export\n",
            "2 similar\n",
            "3 japan\n",
            "6 last\n",
            "2 south\n",
            "3 korea\n",
            "6 trade\n",
            "1 surplus\n",
            "1 1985\n",
            "4 malaysia\n",
            "0 trade\n",
            "6 officer\n",
            "1 businessmen\n",
            "1 tough\n",
            "2 curb\n",
            "1 japan\n",
            "1 might\n",
            "1 allow\n",
            "1 hard\n",
            "7 hit\n",
            "4 producer\n",
            "4 semiconductor\n",
            "7 third\n",
            "4 country\n",
            "1 expand\n",
            "6 sales\n",
            "1 hong\n",
            "7 kong\n",
            "0 newspaper\n",
            "1 allege\n",
            "4 japan\n",
            "4 selling\n",
            "7 cost\n",
            "1 semiconductor\n",
            "7 electronics\n",
            "0 manufacturer\n",
            "7 view\n",
            "1 businessmen\n",
            "6 short\n",
            "7 term\n",
            "1 commercial\n",
            "6 advantage\n",
            "1 would\n",
            "0 outweigh\n",
            "2 pressure\n",
            "1 block\n",
            "7 import\n",
            "1 short\n",
            "2 term\n",
            "0 view\n",
            "1 lawrence\n",
            "7 mills\n",
            "2 director\n",
            "7 general\n",
            "3 federation\n",
            "1 hong\n",
            "3 kong\n",
            "1 industry\n",
            "2 whole\n",
            "7 purpose\n",
            "1 prevent\n",
            "6 import\n",
            "0 one\n",
            "2 day\n",
            "1 extend\n",
            "2 source\n",
            "7 much\n",
            "5 serious\n",
            "1 hong\n",
            "3 kong\n",
            "6 disadvantage\n",
            "1 action\n",
            "6 restrain\n",
            "6 trade\n",
            "5 last\n",
            "1 hong\n",
            "1 kong\n",
            "3 big\n",
            "5 export\n",
            "6 market\n",
            "3 accounting\n",
            "1 30\n",
            "1 domestically\n",
            "1 produce\n",
            "1 export\n",
            "3 australian\n",
            "1 government\n",
            "6 await\n",
            "7 outcome\n",
            "1 trade\n",
            "1 talks\n",
            "1 japan\n",
            "1 interest\n",
            "7 concern\n",
            "1 industry\n",
            "6 minister\n",
            "5 john\n",
            "7 button\n",
            "7 canberra\n",
            "6 last\n",
            "7 friday\n",
            "5 kind\n",
            "6 deterioration\n",
            "1 trade\n",
            "1 relations\n",
            "5 two\n",
            "6 country\n",
            "5 major\n",
            "1 trading\n",
            "1 partner\n",
            "5 serious\n",
            "5 matter\n",
            "1 button\n",
            "6 australia\n",
            "5 concern\n",
            "6 centre\n",
            "6 coal\n",
            "1 beef\n",
            "6 australia\n",
            "6 two\n",
            "6 large\n",
            "6 export\n",
            "4 japan\n",
            "0 also\n",
            "5 significant\n",
            "1 export\n",
            "7 country\n",
            "5 meanwhile\n",
            "7 japanese\n",
            "1 diplomatic\n",
            "1 manoeuvre\n",
            "2 solve\n",
            "0 trade\n",
            "1 stand\n",
            "7 continue\n",
            "1 japan\n",
            "0 ruling\n",
            "6 liberal\n",
            "6 democratic\n",
            "1 party\n",
            "7 yesterday\n",
            "1 outline\n",
            "1 package\n",
            "2 economic\n",
            "4 measure\n",
            "3 boost\n",
            "7 japanese\n",
            "6 economy\n",
            "6 measure\n",
            "5 propose\n",
            "0 include\n",
            "2 large\n",
            "1 supplementary\n",
            "2 budget\n",
            "1 record\n",
            "5 public\n",
            "1 works\n",
            "4 spending\n",
            "1 first\n",
            "1 half\n",
            "2 financial\n",
            "1 also\n",
            "5 call\n",
            "1 step\n",
            "7 spending\n",
            "5 emergency\n",
            "7 measure\n",
            "1 stimulate\n",
            "1 economy\n",
            "2 despite\n",
            "6 prime\n",
            "5 minister\n",
            "6 yasuhiro\n",
            "6 nakasone\n",
            "4 avow\n",
            "1 fiscal\n",
            "7 reform\n",
            "1 program\n",
            "5 deputy\n",
            "7 trade\n",
            "6 representative\n",
            "1 michael\n",
            "7 smith\n",
            "2 makoto\n",
            "1 kuroda\n",
            "1 japan\n",
            "7 deputy\n",
            "2 minister\n",
            "7 international\n",
            "1 trade\n",
            "1 industry\n",
            "1 miti\n",
            "7 due\n",
            "1 meet\n",
            "5 washington\n",
            "1 week\n",
            "1 effort\n",
            "1 end\n",
            "1 dispute\n"
          ],
          "name": "stdout"
        }
      ]
    },
    {
      "cell_type": "markdown",
      "metadata": {
        "id": "Ps1PgVeyOfbU"
      },
      "source": [
        "## Hints\n",
        "\n",
        "There are many hyperparameters in the vectorizer and kmeans of scikit-learn. The vectorizer method also provides data preprocessing functions with hyperparameters (e.g., stop_words). The clustering result will change according to the change of these hyperparameters. You can try different hyperparameter settings to check out the result refer to the following URL.   \n",
        "* About TF-IDF   \n",
        "    https://scikit-learn.org/stable/modules/generated/sklearn.feature_extraction.text.TfidfVectorizer.html   \n",
        "* About K-means   \n",
        "    https://scikit-learn.org/stable/modules/generated/sklearn.cluster.KMeans.html\n"
      ]
    },
    {
      "cell_type": "markdown",
      "metadata": {
        "id": "yRRWSoojOm1-"
      },
      "source": [
        "## Try it yourself\n",
        "Modify the above code with the following methods to check out the differences:\n",
        "1. Try other vectorization methods (e.g., bag-of-words)\n",
        "2. Try other clustering methods (e.g., hierarchical clustering) or visualize the result of K-means."
      ]
    }
  ]
}